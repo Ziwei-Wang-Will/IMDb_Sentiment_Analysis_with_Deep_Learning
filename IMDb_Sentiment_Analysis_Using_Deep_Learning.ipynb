{
 "cells": [
  {
   "cell_type": "markdown",
   "metadata": {
    "colab_type": "text",
    "id": "ItXfxkxvosLH"
   },
   "source": [
    "# IMDb - Sentiment_Analysis_Using_Deep_Learning"
   ]
  },
  {
   "cell_type": "markdown",
   "metadata": {
    "colab_type": "text",
    "id": "eNKs6uwCSJEX"
   },
   "source": [
    "## Main tasks\n",
    "\n",
    "1. Basic preprocessing of NLP data\n",
    "    * Tokenize words\n",
    "    * Create a dictionary that maps words to unique IDs\n",
    "    * Convert words to ID\n",
    "    * Pad/truncate sequences to unified lengths\n",
    "2. Build a model using FNN\n",
    "    * Design model structure\n",
    "    * Add layers\n",
    "    * Define loss\n",
    "    * Define optimizer\n",
    "    * Create a plot to clearly observe training progress\n",
    "    * Evaluate on test set\n",
    "3. Improvements to the model - deal with overfitting\n",
    "    * Dropout\n",
    "    * Build a recurrent model\n",
    "        - LSTM\n",
    "        - Improvements to a recurrent model\n",
    "            - Deeper LSTMs\n",
    "            - Bi-directional RNN\n",
    "            - Combine deep LSTM with bi-directional RNN\n",
    "    * Pretrained embeddings\n",
    "        - Use the GloVe embeddings to initialize our embedding weights\n",
    "    * Mixture of the above\n",
    "4. Model comparison"
   ]
  },
  {
   "cell_type": "code",
   "execution_count": 1,
   "metadata": {
    "colab": {},
    "colab_type": "code",
    "id": "2ew7HTbPpCJH"
   },
   "outputs": [
    {
     "name": "stderr",
     "output_type": "stream",
     "text": [
      "Using TensorFlow backend.\n"
     ]
    },
    {
     "name": "stdout",
     "output_type": "stream",
     "text": [
      "1.8.0\n"
     ]
    }
   ],
   "source": [
    "import tensorflow as tf\n",
    "from tensorflow import keras\n",
    "from keras import backend as K\n",
    "from keras.layers import Embedding, Bidirectional, LSTM, CuDNNLSTM\n",
    "from keras.layers import Dropout, Dense, GlobalAveragePooling1D\n",
    "%matplotlib inline\n",
    "import matplotlib.pyplot as plt\n",
    "import numpy as np\n",
    "import keras.layers\n",
    "\n",
    "print(tf.__version__)"
   ]
  },
  {
   "cell_type": "markdown",
   "metadata": {
    "colab_type": "text",
    "id": "iAsKG535pHep"
   },
   "source": [
    "## 1. Basic preprocessing of NLP data\n",
    "\n",
    "### Download the IMDB dataset\n",
    "\n",
    "The IMDB dataset is conviently preprocessed by others and can be easily obtained using Keras. \n",
    "The reviews (sequences of words) have been converted to sequences of integers, where each integer represents a specific word in a dictionary. The dictionary is also pre-built. \n",
    "\n",
    "Keras contains the following helper function that downloads the IMDB dataset to your machine.\n",
    "\n",
    "```python\n",
    "def load_data(path='imdb.npz', num_words=None, skip_top=0, maxlen=None, seed=113,\n",
    "              start_char=1, oov_char=2, index_from=3, **kwargs):\n",
    "```\n",
    "\n",
    "We talked about the design challenge of setting a vocabulary size. For now, we will set it to 10,000 words."
   ]
  },
  {
   "cell_type": "code",
   "execution_count": 2,
   "metadata": {
    "colab": {},
    "colab_type": "code",
    "id": "zXXx5Oc3pOmN"
   },
   "outputs": [],
   "source": [
    "vocab_size = 10000\n",
    "(train_data, train_labels), (test_data, test_labels) = \\\n",
    "       keras.datasets.imdb.load_data(num_words=vocab_size)"
   ]
  },
  {
   "cell_type": "markdown",
   "metadata": {
    "colab_type": "text",
    "id": "odr-KlzO-lkL"
   },
   "source": [
    "The argument `num_words=vocab_size` keeps the top 10,000 most frequently occurring words in the training data. \n",
    "Other rare words are replaced by `oov_char` to keep the size of the model manageable. \n",
    "We will use an embedding matrix that maps words to a vector.\n",
    "    - If there are 10,000 words each having a 100-dimension vector, that would take up 1,000,000, or 1 million parameters in our model. \n",
    "    - However, compared to sparse encoding which would have needed 100 million parameters, this is much smaller."
   ]
  },
  {
   "cell_type": "markdown",
   "metadata": {
    "colab_type": "text",
    "id": "7FPWkGzYL_ro"
   },
   "source": [
    "Keras also comes with a pre-built dictionary of mapping words to its ID. However, it does not match the preprocessed word IDs. We need to add special words into this dictionary. `<PAD>` `<SOS>` `<UNK>` are added to match the settings `start_char=1, oov_char=2, index_from=3` in `load_data()`.\n",
    "\n",
    "It is common in NLP to add these special words in the dictionary. We want to add the *PADDING* symbol `<PAD>`, *Start-of-sentence* symbol `<SOS>`, and *Unknown* symbol `<UNK>`."
   ]
  },
  {
   "cell_type": "code",
   "execution_count": 3,
   "metadata": {
    "colab": {},
    "colab_type": "code",
    "id": "BVBVl8g10y0d"
   },
   "outputs": [],
   "source": [
    "# A dictionary mapping words --> integer index\n",
    "word_index = keras.datasets.imdb.get_word_index()\n",
    "\n",
    "# Shift word index by 3 because we want to add special words\n",
    "word_index = {k:(v+3) for k,v in word_index.items()} \n",
    "word_index[\"<PAD>\"] = 0  # padding\n",
    "word_index[\"<SOS>\"] = 1  # start of sequence\n",
    "word_index[\"<UNK>\"] = 2  # unknown (out of the top 10,000 most frequent words)"
   ]
  },
  {
   "cell_type": "markdown",
   "metadata": {
    "colab_type": "text",
    "id": "VXdoEKwi0y0h"
   },
   "source": [
    "For our convenience, we will create a helper function to convert integer IDs back to words. It is easier to find errors that way!"
   ]
  },
  {
   "cell_type": "code",
   "execution_count": 4,
   "metadata": {
    "colab": {},
    "colab_type": "code",
    "id": "-c6Anz8R0y0h"
   },
   "outputs": [],
   "source": [
    "# Build another dictionary of mapping integer --> words \n",
    "reverse_word_index = dict([(v, k) for (k, v) in word_index.items()])\n",
    "\n",
    "# Create a helper function to convert the integer to words\n",
    "# also limit max length\n",
    "def decode_review(text):\n",
    "  words = [reverse_word_index.get(i, \"<UNK>\") for i in text]\n",
    "  # get responding word for index i, if i not exist in reverse_word_index, return \"<UNK>\"\n",
    "  fixed_width_string = []\n",
    "  # limit max length = 10\n",
    "  for w_pos in range(len(words)):\n",
    "    fixed_width_string.append(words[w_pos])\n",
    "    if (w_pos+1) % 10 == 0:\n",
    "      fixed_width_string.append('\\n')\n",
    "  return ' '.join(fixed_width_string)"
   ]
  },
  {
   "cell_type": "markdown",
   "metadata": {
    "colab_type": "text",
    "id": "l50X3GfjpU4r"
   },
   "source": [
    "### Always check the content\n",
    "\n",
    "#### Confirm the correctness of preprocessing, because things can go wrong in so many ways.\n",
    "\n",
    "In our design, each input should contain a list of integers representing the words of the movie review, and output should be an integer of 0 or 1. We use 0 to represent a negative review and 1 positive. First we want to make sure the number of reviews and labels are equal."
   ]
  },
  {
   "cell_type": "code",
   "execution_count": 5,
   "metadata": {
    "colab": {},
    "colab_type": "code",
    "id": "y8qCnve_-lkO"
   },
   "outputs": [
    {
     "name": "stdout",
     "output_type": "stream",
     "text": [
      "Training data: 25000 reviews, 25000 labels\n"
     ]
    }
   ],
   "source": [
    "print(\"Training data: {} reviews, {} labels\".format(len(train_data), len(train_labels)))"
   ]
  },
  {
   "cell_type": "markdown",
   "metadata": {
    "colab_type": "text",
    "id": "RnKvHWW4-lkW"
   },
   "source": [
    "The words should be converted to integers, where each integer represents a specific word in a dictionary. Here's what the first review looks like:"
   ]
  },
  {
   "cell_type": "code",
   "execution_count": 6,
   "metadata": {
    "colab": {},
    "colab_type": "code",
    "id": "QtTS4kpEpjbi"
   },
   "outputs": [
    {
     "name": "stdout",
     "output_type": "stream",
     "text": [
      "Word IDs\n",
      "[1, 14, 22, 16, 43, 530, 973, 1622, 1385, 65, 458, 4468, 66, 3941, 4, 173, 36, 256, 5, 25, 100, 43, 838, 112, 50, 670, 2, 9, 35, 480, 284, 5, 150, 4, 172, 112, 167, 2, 336, 385, 39, 4, 172, 4536, 1111, 17, 546, 38, 13, 447, 4, 192, 50, 16, 6, 147, 2025, 19, 14, 22, 4, 1920, 4613, 469, 4, 22, 71, 87, 12, 16, 43, 530, 38, 76, 15, 13, 1247, 4, 22, 17, 515, 17, 12, 16, 626, 18, 2, 5, 62, 386, 12, 8, 316, 8, 106, 5, 4, 2223, 5244, 16, 480, 66, 3785, 33, 4, 130, 12, 16, 38, 619, 5, 25, 124, 51, 36, 135, 48, 25, 1415, 33, 6, 22, 12, 215, 28, 77, 52, 5, 14, 407, 16, 82, 2, 8, 4, 107, 117, 5952, 15, 256, 4, 2, 7, 3766, 5, 723, 36, 71, 43, 530, 476, 26, 400, 317, 46, 7, 4, 2, 1029, 13, 104, 88, 4, 381, 15, 297, 98, 32, 2071, 56, 26, 141, 6, 194, 7486, 18, 4, 226, 22, 21, 134, 476, 26, 480, 5, 144, 30, 5535, 18, 51, 36, 28, 224, 92, 25, 104, 4, 226, 65, 16, 38, 1334, 88, 12, 16, 283, 5, 16, 4472, 113, 103, 32, 15, 16, 5345, 19, 178, 32]\n",
      "Label\n",
      "1\n"
     ]
    }
   ],
   "source": [
    "print(\"Word IDs\")\n",
    "print(train_data[0])\n",
    "print(\"Label\")\n",
    "print(train_labels[0])"
   ]
  },
  {
   "cell_type": "markdown",
   "metadata": {
    "colab_type": "text",
    "id": "hIE4l_72x7DP"
   },
   "source": [
    "Movie reviews may be of different lengths. We can see by examining a few of them. \n",
    "\n",
    "Since inputs must be the same length, we'll need to resolve this later."
   ]
  },
  {
   "cell_type": "code",
   "execution_count": 7,
   "metadata": {
    "colab": {},
    "colab_type": "code",
    "id": "X-6Ii9Pfx6Nr"
   },
   "outputs": [
    {
     "data": {
      "text/plain": [
       "(218, 189)"
      ]
     },
     "execution_count": 7,
     "metadata": {},
     "output_type": "execute_result"
    }
   ],
   "source": [
    "len(train_data[0]), len(train_data[1])"
   ]
  },
  {
   "cell_type": "markdown",
   "metadata": {
    "colab_type": "text",
    "id": "U3CNRvEZVppl"
   },
   "source": [
    "We can use the `decode_review` function to display the text for the first review, and also check for any error."
   ]
  },
  {
   "cell_type": "code",
   "execution_count": 8,
   "metadata": {
    "colab": {},
    "colab_type": "code",
    "id": "s_OqxmH6-lkn"
   },
   "outputs": [
    {
     "name": "stdout",
     "output_type": "stream",
     "text": [
      "<SOS> this film was just brilliant casting location scenery story \n",
      " direction everyone's really suited the part they played and you \n",
      " could just imagine being there robert <UNK> is an amazing \n",
      " actor and now the same being director <UNK> father came \n",
      " from the same scottish island as myself so i loved \n",
      " the fact there was a real connection with this film \n",
      " the witty remarks throughout the film were great it was \n",
      " just brilliant so much that i bought the film as \n",
      " soon as it was released for <UNK> and would recommend \n",
      " it to everyone to watch and the fly fishing was \n",
      " amazing really cried at the end it was so sad \n",
      " and you know what they say if you cry at \n",
      " a film it must have been good and this definitely \n",
      " was also <UNK> to the two little boy's that played \n",
      " the <UNK> of norman and paul they were just brilliant \n",
      " children are often left out of the <UNK> list i \n",
      " think because the stars that play them all grown up \n",
      " are such a big profile for the whole film but \n",
      " these children are amazing and should be praised for what \n",
      " they have done don't you think the whole story was \n",
      " so lovely because it was true and was someone's life \n",
      " after all that was shared with us all\n"
     ]
    }
   ],
   "source": [
    "print(decode_review(train_data[0]))"
   ]
  },
  {
   "cell_type": "markdown",
   "metadata": {
    "colab_type": "text",
    "id": "2cv9iNJH5ATP"
   },
   "source": [
    "If we did **not** add special words in word_index, we will see that the reviews don't make any sense when using `decode_review`.  It is important to always check for errors like this!"
   ]
  },
  {
   "cell_type": "markdown",
   "metadata": {
    "colab_type": "text",
    "id": "lFP_XKVRp4_S"
   },
   "source": [
    "### Prepare the data for input\n",
    "\n",
    "Since the inputs must be of the same length, we will use the helper function `pad_sequences` in Keras to unify the lengths.\n",
    "\n",
    "Important options:\n",
    "* Max length = 100\n",
    "* The argument `padding='pre'` means that we are padding the beginning of a sentence.\n",
    "* If we set `maxlen=None`, Keras will automatically pad to __longest__ sequence in the dataset. \n",
    "* `truncating='pre'` indicates that the truncating will happen from the beginning of the review, so we are keeping the __last__ `maxlen=100` words"
   ]
  },
  {
   "cell_type": "code",
   "execution_count": 9,
   "metadata": {
    "colab": {},
    "colab_type": "code",
    "id": "2jQv-omsHurp"
   },
   "outputs": [],
   "source": [
    "train_data = keras.preprocessing.sequence.pad_sequences(train_data,\n",
    "                                                        value=word_index[\"<PAD>\"],\n",
    "                                                        padding='pre',\n",
    "                                                        truncating='pre',\n",
    "                                                        maxlen=100)\n",
    "\n",
    "test_data = keras.preprocessing.sequence.pad_sequences(test_data,\n",
    "                                                       value=word_index[\"<PAD>\"],\n",
    "                                                       padding='pre',\n",
    "                                                       truncating='pre',\n",
    "                                                       maxlen=100)"
   ]
  },
  {
   "cell_type": "markdown",
   "metadata": {
    "colab_type": "text",
    "id": "VO5MBpyQdipD"
   },
   "source": [
    "Let's look at the length of the examples now:"
   ]
  },
  {
   "cell_type": "code",
   "execution_count": 10,
   "metadata": {
    "colab": {},
    "colab_type": "code",
    "id": "USSSBnkE-lky"
   },
   "outputs": [
    {
     "data": {
      "text/plain": [
       "(100, 100)"
      ]
     },
     "execution_count": 10,
     "metadata": {},
     "output_type": "execute_result"
    }
   ],
   "source": [
    "len(train_data[0]), len(train_data[1])"
   ]
  },
  {
   "cell_type": "markdown",
   "metadata": {
    "colab_type": "text",
    "id": "QJoxZGyfjT5V"
   },
   "source": [
    "And inspect the first review:"
   ]
  },
  {
   "cell_type": "code",
   "execution_count": 11,
   "metadata": {
    "colab": {},
    "colab_type": "code",
    "id": "TG8X9cqi-lk9"
   },
   "outputs": [
    {
     "name": "stdout",
     "output_type": "stream",
     "text": [
      "[1415   33    6   22   12  215   28   77   52    5   14  407   16   82\n",
      "    2    8    4  107  117 5952   15  256    4    2    7 3766    5  723\n",
      "   36   71   43  530  476   26  400  317   46    7    4    2 1029   13\n",
      "  104   88    4  381   15  297   98   32 2071   56   26  141    6  194\n",
      " 7486   18    4  226   22   21  134  476   26  480    5  144   30 5535\n",
      "   18   51   36   28  224   92   25  104    4  226   65   16   38 1334\n",
      "   88   12   16  283    5   16 4472  113  103   32   15   16 5345   19\n",
      "  178   32]\n"
     ]
    }
   ],
   "source": [
    "print(train_data[0])"
   ]
  },
  {
   "cell_type": "markdown",
   "metadata": {
    "colab_type": "text",
    "id": "LTY6qJlZ0y06"
   },
   "source": [
    "Compare the review now vs. the original above."
   ]
  },
  {
   "cell_type": "code",
   "execution_count": 12,
   "metadata": {
    "colab": {},
    "colab_type": "code",
    "id": "sKibIdzq0y06"
   },
   "outputs": [
    {
     "name": "stdout",
     "output_type": "stream",
     "text": [
      "cry at a film it must have been good and \n",
      " this definitely was also <UNK> to the two little boy's \n",
      " that played the <UNK> of norman and paul they were \n",
      " just brilliant children are often left out of the <UNK> \n",
      " list i think because the stars that play them all \n",
      " grown up are such a big profile for the whole \n",
      " film but these children are amazing and should be praised \n",
      " for what they have done don't you think the whole \n",
      " story was so lovely because it was true and was \n",
      " someone's life after all that was shared with us all \n",
      "\n"
     ]
    }
   ],
   "source": [
    "print(decode_review(train_data[0]))"
   ]
  },
  {
   "cell_type": "markdown",
   "metadata": {
    "colab_type": "text",
    "id": "-ILVfiyM0y09"
   },
   "source": [
    "We can see that the review has been cut from the beginning, because we set `truncating='pre'` in `pad_sequences`.\n",
    "\n",
    "For shorter reviews, we can see that it has been padded from the beginning as in the next example."
   ]
  },
  {
   "cell_type": "code",
   "execution_count": 13,
   "metadata": {
    "colab": {},
    "colab_type": "code",
    "id": "ZSe732FT0y09"
   },
   "outputs": [
    {
     "name": "stdout",
     "output_type": "stream",
     "text": [
      "<PAD> <PAD> <PAD> <PAD> <PAD> <PAD> <PAD> <PAD> <PAD> <PAD> \n",
      " <PAD> <PAD> <PAD> <PAD> <PAD> <PAD> <PAD> <PAD> <PAD> <PAD> \n",
      " <PAD> <PAD> <PAD> <PAD> <PAD> <PAD> <PAD> <PAD> <PAD> <PAD> \n",
      " <PAD> <PAD> <PAD> <PAD> <PAD> <PAD> <PAD> <PAD> <PAD> <PAD> \n",
      " <PAD> <PAD> <PAD> <PAD> <PAD> <PAD> <PAD> <PAD> <PAD> <PAD> \n",
      " <PAD> <PAD> <PAD> <PAD> <PAD> <PAD> <PAD> <SOS> begins better \n",
      " than it ends funny that the russian submarine crew <UNK> \n",
      " all other actors it's like those scenes where documentary shots \n",
      " br br spoiler part the message <UNK> was contrary to \n",
      " the whole story it just does not <UNK> br br \n",
      "\n"
     ]
    }
   ],
   "source": [
    "print(decode_review(train_data[5]))"
   ]
  },
  {
   "cell_type": "markdown",
   "metadata": {
    "colab_type": "text",
    "id": "hCWYwkug-llQ"
   },
   "source": [
    "### Create a validation set\n",
    "\n",
    "When training, we want to check the accuracy of the model on data it hasn't seen before. Create a *validation set* by setting apart some examples from the original training data. \n",
    "\n",
    "To save time, we will use only a part of the training data."
   ]
  },
  {
   "cell_type": "code",
   "execution_count": 14,
   "metadata": {
    "colab": {},
    "colab_type": "code",
    "id": "-NpcXY9--llS"
   },
   "outputs": [],
   "source": [
    "x_val = train_data[:1000]\n",
    "partial_x_train = train_data[1000:10000]\n",
    "\n",
    "y_val = train_labels[:1000]\n",
    "partial_y_train = train_labels[1000:10000]"
   ]
  },
  {
   "cell_type": "markdown",
   "metadata": {},
   "source": [
    "## 2. Building a model using FNN"
   ]
  },
  {
   "cell_type": "markdown",
   "metadata": {
    "colab_type": "text",
    "id": "LLC02j2g-llC"
   },
   "source": [
    "## Build the model\n",
    "\n",
    "Let's build a simple model for the sentiment analysis problem!"
   ]
  },
  {
   "cell_type": "code",
   "execution_count": 31,
   "metadata": {
    "colab": {},
    "colab_type": "code",
    "id": "xpKOoWgu-llD"
   },
   "outputs": [
    {
     "name": "stdout",
     "output_type": "stream",
     "text": [
      "_________________________________________________________________\n",
      "Layer (type)                 Output Shape              Param #   \n",
      "=================================================================\n",
      "embedding_1 (Embedding)      (None, None, 100)         1000000   \n",
      "_________________________________________________________________\n",
      "global_average_pooling1d_1 ( (None, 100)               0         \n",
      "_________________________________________________________________\n",
      "dense_1 (Dense)              (None, 16)                1616      \n",
      "_________________________________________________________________\n",
      "dense_2 (Dense)              (None, 1)                 17        \n",
      "=================================================================\n",
      "Total params: 1,001,633\n",
      "Trainable params: 1,001,633\n",
      "Non-trainable params: 0\n",
      "_________________________________________________________________\n"
     ]
    }
   ],
   "source": [
    "model = keras.Sequential()\n",
    "# Embedding layer maps each of the 10000 words to 100-d embeddings\n",
    "model.add(Embedding(vocab_size, 100))\n",
    "# Average the embeddings\n",
    "model.add(GlobalAveragePooling1D())\n",
    "# 1 Fully-connected layer\n",
    "model.add(Dense(16, activation=tf.nn.relu))\n",
    "# 2 Fully-connected layer\n",
    "model.add(Dense(1, activation=tf.nn.sigmoid))\n",
    "\n",
    "model.summary()"
   ]
  },
  {
   "cell_type": "markdown",
   "metadata": {
    "colab_type": "text",
    "id": "L4EqVWg4-llM"
   },
   "source": [
    "### Loss function and optimizer\n",
    "\n",
    "The design of Keras requires us to configure the loss and optimizer of the model together."
   ]
  },
  {
   "cell_type": "code",
   "execution_count": 32,
   "metadata": {
    "colab": {},
    "colab_type": "code",
    "id": "Mr0GP-cQ-llN"
   },
   "outputs": [],
   "source": [
    "model.compile(optimizer=tf.train.AdamOptimizer(),\n",
    "              loss='binary_crossentropy',\n",
    "              metrics=['accuracy'])"
   ]
  },
  {
   "cell_type": "markdown",
   "metadata": {
    "colab_type": "text",
    "id": "35jv_fzP-llU"
   },
   "source": [
    "## Train the model\n",
    "\n",
    "Train the model for 8 epochs in mini-batches of samples. "
   ]
  },
  {
   "cell_type": "code",
   "execution_count": 33,
   "metadata": {
    "colab": {},
    "colab_type": "code",
    "id": "tXSGrjWZ-llW"
   },
   "outputs": [
    {
     "name": "stdout",
     "output_type": "stream",
     "text": [
      "Train on 9000 samples, validate on 1000 samples\n",
      "Epoch 1/8\n",
      "9000/9000 [==============================] - 2s 170us/step - loss: 0.6685 - acc: 0.6698 - val_loss: 0.6092 - val_acc: 0.7630\n",
      "Epoch 2/8\n",
      "9000/9000 [==============================] - 1s 136us/step - loss: 0.4974 - acc: 0.8399 - val_loss: 0.4292 - val_acc: 0.8260\n",
      "Epoch 3/8\n",
      "9000/9000 [==============================] - 2s 183us/step - loss: 0.3263 - acc: 0.8851 - val_loss: 0.3623 - val_acc: 0.8350\n",
      "Epoch 4/8\n",
      "9000/9000 [==============================] - 1s 144us/step - loss: 0.2424 - acc: 0.9147 - val_loss: 0.3500 - val_acc: 0.8340\n",
      "Epoch 5/8\n",
      "9000/9000 [==============================] - 1s 133us/step - loss: 0.1883 - acc: 0.9390 - val_loss: 0.3551 - val_acc: 0.8300\n",
      "Epoch 6/8\n",
      "9000/9000 [==============================] - 1s 131us/step - loss: 0.1496 - acc: 0.9534 - val_loss: 0.3772 - val_acc: 0.8280\n",
      "Epoch 7/8\n",
      "9000/9000 [==============================] - 1s 137us/step - loss: 0.1163 - acc: 0.9696 - val_loss: 0.3956 - val_acc: 0.8260\n",
      "Epoch 8/8\n",
      "9000/9000 [==============================] - 1s 162us/step - loss: 0.0905 - acc: 0.9789 - val_loss: 0.4218 - val_acc: 0.8230\n"
     ]
    }
   ],
   "source": [
    "history = model.fit(partial_x_train,\n",
    "                    partial_y_train,\n",
    "                    epochs=8,\n",
    "                    batch_size=100,\n",
    "                    validation_data=(x_val, y_val))"
   ]
  },
  {
   "cell_type": "markdown",
   "metadata": {
    "colab_type": "text",
    "id": "9EEGuDVuzb5r"
   },
   "source": [
    "## Evaluate the model\n",
    "\n",
    "And let's see how the model performs on the test set. Two values will be returned when calling `.evaluate` function, **loss** (we defined it as binary cross entropy) and **accuracy**.  Keras will report whatever we used in the `model.compile` function as the evaluation metrics.\n"
   ]
  },
  {
   "cell_type": "code",
   "execution_count": 34,
   "metadata": {
    "colab": {},
    "colab_type": "code",
    "id": "zOMKywn4zReN"
   },
   "outputs": [
    {
     "name": "stdout",
     "output_type": "stream",
     "text": [
      "25000/25000 [==============================] - 1s 29us/step\n",
      "[0.43522171106338503, 0.8332]\n"
     ]
    }
   ],
   "source": [
    "results = model.evaluate(test_data, test_labels)\n",
    "print(results)"
   ]
  },
  {
   "cell_type": "markdown",
   "metadata": {
    "colab_type": "text",
    "id": "z1iEXVTR0Z2t"
   },
   "source": [
    "This fairly naive approach achieves an accuracy of 83%."
   ]
  },
  {
   "cell_type": "markdown",
   "metadata": {
    "colab_type": "text",
    "id": "5KggXVeL-llZ"
   },
   "source": [
    "### Create a plot of accuracy and loss over time\n",
    "\n",
    "`model.fit()` returns a `History` object that contains a dictionary with everything that happened during training. There are four entries: one for each monitored metric during training and validation. We can use these to plot the training and validation loss for comparison, as well as the training and validation accuracy. We will write a helper function to plot loss and accuracy of each epoch."
   ]
  },
  {
   "cell_type": "code",
   "execution_count": 15,
   "metadata": {
    "colab": {},
    "colab_type": "code",
    "id": "VcvSXvhp-llb"
   },
   "outputs": [],
   "source": [
    "def plot_hist(history):\n",
    "    history_dict = history.history\n",
    "    acc = history.history['acc']\n",
    "    val_acc = history.history['val_acc']\n",
    "    loss = history.history['loss']\n",
    "    val_loss = history.history['val_loss']\n",
    "    epochs = range(1, len(acc) + 1)\n",
    "    # plot for loss\n",
    "    plt.clf()   # clear figure\n",
    "    # \"bo\" is for \"blue dot\"\n",
    "    plt.plot(epochs, loss, 'bo', label='Training loss')\n",
    "    # r is for \"red solid line\"\n",
    "    plt.plot(epochs, val_loss, 'r', label='Validation loss')\n",
    "    plt.title('Training and validation loss')\n",
    "    plt.xlabel('Epochs')\n",
    "    plt.ylabel('Loss')\n",
    "    plt.legend()\n",
    "    plt.show()\n",
    "    # plot for accuracy\n",
    "    plt.clf()   # clear figure\n",
    "    plt.plot(epochs, acc, 'bo', label='Training acc')\n",
    "    plt.plot(epochs, val_acc, 'r', label='Validation acc')\n",
    "    plt.title('Training and validation accuracy')\n",
    "    plt.xlabel('Epochs')\n",
    "    plt.ylabel('Accuracy')\n",
    "    plt.legend()\n",
    "\n",
    "    plt.show()"
   ]
  },
  {
   "cell_type": "code",
   "execution_count": 36,
   "metadata": {},
   "outputs": [
    {
     "data": {
      "image/png": "[encoded data removed]",
      "text/plain": [
       "<Figure size 432x288 with 1 Axes>"
      ]
     },
     "metadata": {},
     "output_type": "display_data"
    },
    {
     "data": {
      "image/png": "[encoded data removed]",
      "text/plain": [
       "<Figure size 432x288 with 1 Axes>"
      ]
     },
     "metadata": {},
     "output_type": "display_data"
    }
   ],
   "source": [
    "plot_hist(history)"
   ]
  },
  {
   "cell_type": "markdown",
   "metadata": {
    "colab_type": "text",
    "id": "oFEmZ5zq-llk"
   },
   "source": [
    "In this plot, the dots represent the training loss and accuracy, and the solid lines are the validation loss and accuracy.\n",
    "\n",
    "Notice the training loss *decreases* with each epoch and the training accuracy *increases* with each epoch. This is expected because we designed the model to optimize for this goal.\n",
    "\n",
    "However, the loss and accuracy for validation data is usually different from the training data. They usually peak after some epochs. \n",
    "\n",
    "Recall that we have talked about **overfitting**: the model performs much better on the training data than it does on new data. \n",
    "After this point, the model over-optimizes and learns representations *specific* to the training data that do not *generalize* to test data.\n",
    "\n",
    "We could prevent overfitting by simply stopping the training after some epochs by observing these plots. Also,  we could apply a simple method that uses `Dropout`."
   ]
  },
  {
   "cell_type": "markdown",
   "metadata": {
    "colab_type": "text",
    "id": "ziQOD8R_VltN"
   },
   "source": [
    "## 3. Improvements to the model - deal with overfitting\n",
    "\n",
    "### Dropout\n",
    "\n",
    "A very straightforward method is to insert `Dropout` layers in between our previous layers.  \n",
    "\n",
    "**Important**: `Dropout(rate)` rate is a float between 0 and 1 that indicates the fraction of the input units to **drop**. \n",
    "\n",
    "However, in `tensorflow`, the dropout layers take an argument of `keep_prob` which indicates the fraction to **keep**."
   ]
  },
  {
   "cell_type": "code",
   "execution_count": 37,
   "metadata": {
    "colab": {},
    "colab_type": "code",
    "id": "8ZkJeRBaUwAf"
   },
   "outputs": [
    {
     "name": "stdout",
     "output_type": "stream",
     "text": [
      "_________________________________________________________________\n",
      "Layer (type)                 Output Shape              Param #   \n",
      "=================================================================\n",
      "embedding_1 (Embedding)      (None, None, 100)         1000000   \n",
      "_________________________________________________________________\n",
      "global_average_pooling1d_1 ( (None, 100)               0         \n",
      "_________________________________________________________________\n",
      "dense_1 (Dense)              (None, 16)                1616      \n",
      "_________________________________________________________________\n",
      "dropout_1 (Dropout)          (None, 16)                0         \n",
      "_________________________________________________________________\n",
      "dense_2 (Dense)              (None, 1)                 17        \n",
      "=================================================================\n",
      "Total params: 1,001,633\n",
      "Trainable params: 1,001,633\n",
      "Non-trainable params: 0\n",
      "_________________________________________________________________\n"
     ]
    }
   ],
   "source": [
    "# Clear previous model\n",
    "model = None\n",
    "K.clear_session()\n",
    "model = keras.Sequential()\n",
    "# Embedding layer maps each of the 10000 words to 100-d embeddings\n",
    "model.add(Embedding(vocab_size, 100))\n",
    "# Average the embeddings\n",
    "model.add(GlobalAveragePooling1D())\n",
    "# 1 Fully-connected layer\n",
    "model.add(Dense(16, activation=tf.nn.relu))\n",
    "\n",
    "# Dropout layer\n",
    "model.add(Dropout(0.5))\n",
    "\n",
    "# 2 Fully-connected layer\n",
    "model.add(Dense(1, activation=tf.nn.sigmoid))\n",
    "model.summary()"
   ]
  },
  {
   "cell_type": "code",
   "execution_count": 38,
   "metadata": {
    "colab": {},
    "colab_type": "code",
    "id": "MWTze2ODU9Ae"
   },
   "outputs": [
    {
     "name": "stdout",
     "output_type": "stream",
     "text": [
      "Train on 9000 samples, validate on 1000 samples\n",
      "Epoch 1/12\n",
      "9000/9000 [==============================] - 2s 174us/step - loss: 0.6780 - acc: 0.6424 - val_loss: 0.6411 - val_acc: 0.7830\n",
      "Epoch 2/12\n",
      "9000/9000 [==============================] - 1s 161us/step - loss: 0.5592 - acc: 0.7916 - val_loss: 0.4721 - val_acc: 0.8150\n",
      "Epoch 3/12\n",
      "9000/9000 [==============================] - 1s 134us/step - loss: 0.4055 - acc: 0.8444 - val_loss: 0.3838 - val_acc: 0.8330\n",
      "Epoch 4/12\n",
      "9000/9000 [==============================] - 1s 133us/step - loss: 0.3123 - acc: 0.8831 - val_loss: 0.3583 - val_acc: 0.8400\n",
      "Epoch 5/12\n",
      "9000/9000 [==============================] - 1s 131us/step - loss: 0.2587 - acc: 0.9128 - val_loss: 0.3550 - val_acc: 0.8310\n",
      "Epoch 6/12\n",
      "9000/9000 [==============================] - 1s 135us/step - loss: 0.2149 - acc: 0.9316 - val_loss: 0.3657 - val_acc: 0.8330\n",
      "Epoch 7/12\n",
      "9000/9000 [==============================] - 1s 142us/step - loss: 0.1793 - acc: 0.9452 - val_loss: 0.3780 - val_acc: 0.8270\n",
      "Epoch 8/12\n",
      "9000/9000 [==============================] - 2s 229us/step - loss: 0.1535 - acc: 0.9551 - val_loss: 0.4098 - val_acc: 0.8230\n",
      "Epoch 9/12\n",
      "9000/9000 [==============================] - 1s 146us/step - loss: 0.1237 - acc: 0.9659 - val_loss: 0.4218 - val_acc: 0.8260\n",
      "Epoch 10/12\n",
      "9000/9000 [==============================] - 1s 133us/step - loss: 0.1034 - acc: 0.9748 - val_loss: 0.4492 - val_acc: 0.8240\n",
      "Epoch 11/12\n",
      "9000/9000 [==============================] - 1s 135us/step - loss: 0.0898 - acc: 0.9789 - val_loss: 0.4816 - val_acc: 0.8270\n",
      "Epoch 12/12\n",
      "9000/9000 [==============================] - 1s 132us/step - loss: 0.0794 - acc: 0.9818 - val_loss: 0.5141 - val_acc: 0.8250\n"
     ]
    },
    {
     "data": {
      "image/png": "[encoded data removed]",
      "text/plain": [
       "<Figure size 432x288 with 1 Axes>"
      ]
     },
     "metadata": {},
     "output_type": "display_data"
    },
    {
     "data": {
      "image/png": "[encoded data removed]",
      "text/plain": [
       "<Figure size 432x288 with 1 Axes>"
      ]
     },
     "metadata": {},
     "output_type": "display_data"
    }
   ],
   "source": [
    "model.compile(optimizer=tf.train.AdamOptimizer(),\n",
    "              loss='binary_crossentropy',\n",
    "              metrics=['accuracy'])\n",
    "history = model.fit(partial_x_train,\n",
    "                    partial_y_train,\n",
    "                    epochs=12,\n",
    "                    batch_size=100,\n",
    "                    validation_data=(x_val, y_val))\n",
    "plot_hist(history)"
   ]
  },
  {
   "cell_type": "markdown",
   "metadata": {
    "colab_type": "text",
    "id": "tclUzlb_VNl3"
   },
   "source": [
    "Compare the two plots from two models, it seems that `Dropout` is effective at reducing overfitting!\n",
    "\n",
    "\n",
    "Also remember that when applying dropout, we usually need to train for more epochs."
   ]
  },
  {
   "cell_type": "code",
   "execution_count": 39,
   "metadata": {
    "colab": {},
    "colab_type": "code",
    "id": "EGtlC54T_ydW"
   },
   "outputs": [
    {
     "name": "stdout",
     "output_type": "stream",
     "text": [
      "25000/25000 [==============================] - 1s 29us/step\n",
      "[0.5225725082874298, 0.8268]\n"
     ]
    }
   ],
   "source": [
    "results = model.evaluate(test_data, test_labels)\n",
    "print(results)"
   ]
  },
  {
   "cell_type": "markdown",
   "metadata": {
    "colab_type": "text",
    "id": "_UhWQ00ASV21"
   },
   "source": [
    "## Build a recurrent model\n",
    "\n",
    "### LSTM\n",
    "\n",
    "You can easily change to a recurrent model in Keras. Simply replace `Dense` with `LSTM` and that is it! \n",
    "\n",
    "\n",
    "---\n",
    "\n",
    "\n",
    "Specifically, some parameters can be set for the LSTM cell.\n",
    "\n",
    "```python\n",
    "LSTM(hidden_units, dropout=0.0, recurrent_dropout=0.0)\n",
    "```\n",
    "\n",
    "The first `dropout` refers to the dropping of input features, and `recurrent_dropout` refers to the dropping of the previous output. \n",
    "\n",
    "![dropout_difference](https://drive.google.com/uc?export=view&id=1kiiV6BvPalvGnA6zg3LioDHOMs44TBrr)\n",
    "\n",
    "Let's build a recurrent model for the sentiment analysis problem!"
   ]
  },
  {
   "cell_type": "code",
   "execution_count": 16,
   "metadata": {
    "colab": {},
    "colab_type": "code",
    "id": "WzruqyZT0y1T"
   },
   "outputs": [
    {
     "name": "stdout",
     "output_type": "stream",
     "text": [
      "_________________________________________________________________\n",
      "Layer (type)                 Output Shape              Param #   \n",
      "=================================================================\n",
      "embedding_1 (Embedding)      (None, None, 100)         1000000   \n",
      "_________________________________________________________________\n",
      "lstm_1 (LSTM)                (None, 32)                17024     \n",
      "_________________________________________________________________\n",
      "dense_1 (Dense)              (None, 1)                 33        \n",
      "=================================================================\n",
      "Total params: 1,017,057\n",
      "Trainable params: 1,017,057\n",
      "Non-trainable params: 0\n",
      "_________________________________________________________________\n"
     ]
    }
   ],
   "source": [
    "model = None\n",
    "K.clear_session()\n",
    "model = keras.Sequential()\n",
    "model.add(Embedding(vocab_size, 100))\n",
    "\n",
    "# Add a recurrent layer\n",
    "model.add(LSTM(32, dropout=0.5, recurrent_dropout=0.5))\n",
    "## or CuDNNLSTM\n",
    "# model.add(CuDNNLSTM(32))\n",
    "##\n",
    "\n",
    "model.add(Dense(1, activation='sigmoid'))\n",
    "model.summary()"
   ]
  },
  {
   "cell_type": "markdown",
   "metadata": {
    "colab_type": "text",
    "id": "L1wAcMvnirFd"
   },
   "source": [
    "Again, we build the model and train for some epochs. Observe the change of loss and accuracy compared with the previous model."
   ]
  },
  {
   "cell_type": "code",
   "execution_count": 17,
   "metadata": {
    "colab": {},
    "colab_type": "code",
    "id": "8wdkMR5X0y1W"
   },
   "outputs": [
    {
     "name": "stdout",
     "output_type": "stream",
     "text": [
      "Train on 9000 samples, validate on 1000 samples\n",
      "Epoch 1/8\n",
      "9000/9000 [==============================] - 13s 1ms/step - loss: 0.6601 - acc: 0.6178 - val_loss: 0.5612 - val_acc: 0.7540\n",
      "Epoch 2/8\n",
      "9000/9000 [==============================] - 15s 2ms/step - loss: 0.4833 - acc: 0.7844 - val_loss: 0.4788 - val_acc: 0.7700\n",
      "Epoch 3/8\n",
      "9000/9000 [==============================] - 12s 1ms/step - loss: 0.3790 - acc: 0.8417 - val_loss: 0.4611 - val_acc: 0.7830\n",
      "Epoch 4/8\n",
      "9000/9000 [==============================] - 15s 2ms/step - loss: 0.3220 - acc: 0.8674 - val_loss: 0.4785 - val_acc: 0.7810\n",
      "Epoch 5/8\n",
      "9000/9000 [==============================] - 14s 2ms/step - loss: 0.2848 - acc: 0.8876 - val_loss: 0.4999 - val_acc: 0.7780\n",
      "Epoch 6/8\n",
      "9000/9000 [==============================] - 15s 2ms/step - loss: 0.2557 - acc: 0.8993 - val_loss: 0.5385 - val_acc: 0.7690\n",
      "Epoch 7/8\n",
      "9000/9000 [==============================] - 15s 2ms/step - loss: 0.2239 - acc: 0.9168 - val_loss: 0.5714 - val_acc: 0.7650\n",
      "Epoch 8/8\n",
      "9000/9000 [==============================] - 15s 2ms/step - loss: 0.1991 - acc: 0.9249 - val_loss: 0.5919 - val_acc: 0.7640\n"
     ]
    },
    {
     "data": {
      "image/png": "[encoded data removed]",
      "text/plain": [
       "<Figure size 432x288 with 1 Axes>"
      ]
     },
     "metadata": {},
     "output_type": "display_data"
    },
    {
     "data": {
      "image/png": "[encoded data removed]",
      "text/plain": [
       "<Figure size 432x288 with 1 Axes>"
      ]
     },
     "metadata": {},
     "output_type": "display_data"
    }
   ],
   "source": [
    "model.compile(loss='binary_crossentropy',\n",
    "              optimizer=tf.train.AdamOptimizer(),\n",
    "              metrics=['accuracy'])\n",
    "history = model.fit(partial_x_train, \\\n",
    "                    partial_y_train, \\\n",
    "                    epochs=8, \\\n",
    "                    batch_size=100, \\\n",
    "                    validation_data=(x_val, y_val))\n",
    "\n",
    "plot_hist(history)"
   ]
  },
  {
   "cell_type": "markdown",
   "metadata": {
    "colab_type": "text",
    "id": "hOzGh0u_ixer"
   },
   "source": [
    "And evaluate on the test set."
   ]
  },
  {
   "cell_type": "code",
   "execution_count": 29,
   "metadata": {
    "colab": {},
    "colab_type": "code",
    "id": "XU531arM0y1X"
   },
   "outputs": [
    {
     "name": "stdout",
     "output_type": "stream",
     "text": [
      "25000/25000 [==============================] - 16s 654us/step\n",
      "[0.5702246594047546, 0.77764]\n"
     ]
    }
   ],
   "source": [
    "results = model.evaluate(test_data, test_labels)\n",
    "print(results)"
   ]
  },
  {
   "cell_type": "markdown",
   "metadata": {
    "colab_type": "text",
    "id": "R1RZdQrPi2Jn"
   },
   "source": [
    "### Improvements to a recurrent model\n",
    "\n",
    "### Deeper LSTMs\n",
    "\n",
    "First, we will try to make it *deeper* by adding more LSTMs. \n",
    "\n",
    "**We must change the previous layers!!**\n",
    "\n",
    "By default, a recurrent cell only returns the **last** output. But for multiple layers of recurrent cells, we need the **entire** output. \n",
    "\n",
    "So, we have to set `return_sequences=True` for all recurrent layers except the last one."
   ]
  },
  {
   "cell_type": "code",
   "execution_count": 18,
   "metadata": {
    "colab": {},
    "colab_type": "code",
    "id": "tK3IJLB70y1Z"
   },
   "outputs": [
    {
     "name": "stdout",
     "output_type": "stream",
     "text": [
      "_________________________________________________________________\n",
      "Layer (type)                 Output Shape              Param #   \n",
      "=================================================================\n",
      "embedding_1 (Embedding)      (None, None, 32)          320000    \n",
      "_________________________________________________________________\n",
      "lstm_1 (LSTM)                (None, None, 32)          8320      \n",
      "_________________________________________________________________\n",
      "lstm_2 (LSTM)                (None, 32)                8320      \n",
      "_________________________________________________________________\n",
      "dense_1 (Dense)              (None, 1)                 33        \n",
      "=================================================================\n",
      "Total params: 336,673\n",
      "Trainable params: 336,673\n",
      "Non-trainable params: 0\n",
      "_________________________________________________________________\n"
     ]
    }
   ],
   "source": [
    "model = None\n",
    "K.clear_session()\n",
    "model = keras.Sequential()\n",
    "model.add(Embedding(vocab_size, 32))\n",
    "\n",
    "model.add(LSTM(32, return_sequences=True))\n",
    "model.add(LSTM(32, return_sequences=False))\n",
    "\n",
    "model.add(Dense(1, activation='sigmoid'))\n",
    "model.summary()"
   ]
  },
  {
   "cell_type": "code",
   "execution_count": 19,
   "metadata": {
    "colab": {},
    "colab_type": "code",
    "id": "Xp7bJHVr0y1b"
   },
   "outputs": [
    {
     "name": "stdout",
     "output_type": "stream",
     "text": [
      "Train on 9000 samples, validate on 1000 samples\n",
      "Epoch 1/4\n",
      "9000/9000 [==============================] - 16s 2ms/step - loss: 0.5786 - acc: 0.6644 - val_loss: 0.4349 - val_acc: 0.7960\n",
      "Epoch 2/4\n",
      "9000/9000 [==============================] - 15s 2ms/step - loss: 0.3022 - acc: 0.8770 - val_loss: 0.3938 - val_acc: 0.8300\n",
      "Epoch 3/4\n",
      "9000/9000 [==============================] - 15s 2ms/step - loss: 0.1820 - acc: 0.9368 - val_loss: 0.4331 - val_acc: 0.8190\n",
      "Epoch 4/4\n",
      "9000/9000 [==============================] - 16s 2ms/step - loss: 0.1185 - acc: 0.9617 - val_loss: 0.6006 - val_acc: 0.8150\n"
     ]
    },
    {
     "data": {
      "image/png": "[encoded data removed]",
      "text/plain": [
       "<Figure size 432x288 with 1 Axes>"
      ]
     },
     "metadata": {},
     "output_type": "display_data"
    },
    {
     "data": {
      "image/png": "[encoded data removed]",
      "text/plain": [
       "<Figure size 432x288 with 1 Axes>"
      ]
     },
     "metadata": {},
     "output_type": "display_data"
    }
   ],
   "source": [
    "model.compile(optimizer=tf.train.AdamOptimizer(),\n",
    "              loss='binary_crossentropy',\n",
    "              metrics=['accuracy'])\n",
    "history = model.fit(partial_x_train,\n",
    "                    partial_y_train,\n",
    "                    epochs=4,\n",
    "                    batch_size=100,\n",
    "                    validation_data=(x_val, y_val))\n",
    "plot_hist(history)"
   ]
  },
  {
   "cell_type": "markdown",
   "metadata": {
    "colab_type": "text",
    "id": "3xNM9Kwtwjz_"
   },
   "source": [
    "### Bi-directional RNN\n",
    "\n",
    "#### Next, we will try using *bi-directional* RNN. It is also very easy, just wrap your LSTM cell in `Bidirectional()`."
   ]
  },
  {
   "cell_type": "code",
   "execution_count": 16,
   "metadata": {
    "colab": {},
    "colab_type": "code",
    "id": "myGtsU2V0y1d"
   },
   "outputs": [
    {
     "name": "stdout",
     "output_type": "stream",
     "text": [
      "_________________________________________________________________\n",
      "Layer (type)                 Output Shape              Param #   \n",
      "=================================================================\n",
      "embedding_1 (Embedding)      (None, None, 32)          320000    \n",
      "_________________________________________________________________\n",
      "bidirectional_1 (Bidirection (None, 64)                16640     \n",
      "_________________________________________________________________\n",
      "dense_1 (Dense)              (None, 1)                 65        \n",
      "=================================================================\n",
      "Total params: 336,705\n",
      "Trainable params: 336,705\n",
      "Non-trainable params: 0\n",
      "_________________________________________________________________\n"
     ]
    }
   ],
   "source": [
    "model = None\n",
    "K.clear_session()\n",
    "model = keras.Sequential()\n",
    "model.add(Embedding(vocab_size, 32))\n",
    "\n",
    "model.add(Bidirectional(LSTM(32, return_sequences=False)))\n",
    "\n",
    "model.add(Dense(1, activation='sigmoid'))\n",
    "model.summary()"
   ]
  },
  {
   "cell_type": "code",
   "execution_count": 17,
   "metadata": {
    "colab": {},
    "colab_type": "code",
    "id": "12qyTBs50y1h"
   },
   "outputs": [
    {
     "name": "stdout",
     "output_type": "stream",
     "text": [
      "Train on 9000 samples, validate on 1000 samples\n",
      "Epoch 1/4\n",
      "9000/9000 [==============================] - 12s 1ms/step - loss: 0.6253 - acc: 0.6304 - val_loss: 0.4481 - val_acc: 0.8050\n",
      "Epoch 2/4\n",
      "9000/9000 [==============================] - 10s 1ms/step - loss: 0.3741 - acc: 0.8463 - val_loss: 0.3758 - val_acc: 0.8220\n",
      "Epoch 3/4\n",
      "9000/9000 [==============================] - 11s 1ms/step - loss: 0.2371 - acc: 0.9144 - val_loss: 0.3748 - val_acc: 0.8250\n",
      "Epoch 4/4\n",
      "9000/9000 [==============================] - 11s 1ms/step - loss: 0.1616 - acc: 0.9479 - val_loss: 0.4277 - val_acc: 0.8230\n"
     ]
    },
    {
     "data": {
      "image/png": "[encoded data removed]",
      "text/plain": [
       "<Figure size 432x288 with 1 Axes>"
      ]
     },
     "metadata": {},
     "output_type": "display_data"
    },
    {
     "data": {
      "image/png": "[encoded data removed]",
      "text/plain": [
       "<Figure size 432x288 with 1 Axes>"
      ]
     },
     "metadata": {},
     "output_type": "display_data"
    }
   ],
   "source": [
    "model.compile(optimizer=tf.train.AdamOptimizer(),\n",
    "              loss='binary_crossentropy',\n",
    "              metrics=['accuracy'])\n",
    "history = model.fit(partial_x_train,\n",
    "                    partial_y_train,\n",
    "                    epochs=4,\n",
    "                    batch_size=100,\n",
    "                    validation_data=(x_val, y_val))\n",
    "plot_hist(history)"
   ]
  },
  {
   "cell_type": "markdown",
   "metadata": {
    "colab_type": "text",
    "id": "oxMNmfRLaYdK"
   },
   "source": [
    "### Combine deep LSTM with bi-directional RNN\n",
    "\n",
    "#### Our next move is that we can combine deep LSTM with bidirectional!"
   ]
  },
  {
   "cell_type": "code",
   "execution_count": 18,
   "metadata": {
    "colab": {},
    "colab_type": "code",
    "id": "HGPm6FPMaMA2"
   },
   "outputs": [
    {
     "name": "stdout",
     "output_type": "stream",
     "text": [
      "_________________________________________________________________\n",
      "Layer (type)                 Output Shape              Param #   \n",
      "=================================================================\n",
      "embedding_1 (Embedding)      (None, None, 32)          320000    \n",
      "_________________________________________________________________\n",
      "bidirectional_1 (Bidirection (None, None, 64)          16640     \n",
      "_________________________________________________________________\n",
      "bidirectional_2 (Bidirection (None, 64)                24832     \n",
      "_________________________________________________________________\n",
      "dense_1 (Dense)              (None, 1)                 65        \n",
      "=================================================================\n",
      "Total params: 361,537\n",
      "Trainable params: 361,537\n",
      "Non-trainable params: 0\n",
      "_________________________________________________________________\n"
     ]
    }
   ],
   "source": [
    "model = None\n",
    "K.clear_session()\n",
    "model = keras.Sequential()\n",
    "model.add(Embedding(vocab_size, 32))\n",
    "model.add(Bidirectional(LSTM(32, return_sequences=True)))\n",
    "model.add(Bidirectional(LSTM(32, return_sequences=False)))\n",
    "model.add(Dense(1, activation='sigmoid'))\n",
    "model.summary()"
   ]
  },
  {
   "cell_type": "code",
   "execution_count": 19,
   "metadata": {
    "colab": {},
    "colab_type": "code",
    "id": "FdeVWh05aNwb"
   },
   "outputs": [
    {
     "name": "stdout",
     "output_type": "stream",
     "text": [
      "Train on 9000 samples, validate on 1000 samples\n",
      "Epoch 1/4\n",
      "9000/9000 [==============================] - 28s 3ms/step - loss: 0.5866 - acc: 0.6699 - val_loss: 0.3937 - val_acc: 0.8260\n",
      "Epoch 2/4\n",
      "9000/9000 [==============================] - 24s 3ms/step - loss: 0.2807 - acc: 0.8886 - val_loss: 0.3767 - val_acc: 0.8350\n",
      "Epoch 3/4\n",
      "9000/9000 [==============================] - 24s 3ms/step - loss: 0.1614 - acc: 0.9450 - val_loss: 0.4617 - val_acc: 0.8140\n",
      "Epoch 4/4\n",
      "9000/9000 [==============================] - 25s 3ms/step - loss: 0.1078 - acc: 0.9637 - val_loss: 0.5223 - val_acc: 0.8160\n"
     ]
    },
    {
     "data": {
      "image/png": "[encoded data removed]",
      "text/plain": [
       "<Figure size 432x288 with 1 Axes>"
      ]
     },
     "metadata": {},
     "output_type": "display_data"
    },
    {
     "data": {
      "image/png": "[encoded data removed]",
      "text/plain": [
       "<Figure size 432x288 with 1 Axes>"
      ]
     },
     "metadata": {},
     "output_type": "display_data"
    }
   ],
   "source": [
    "model.compile(optimizer=tf.train.AdamOptimizer(),\n",
    "              loss='binary_crossentropy',\n",
    "              metrics=['accuracy'])\n",
    "history = model.fit(partial_x_train,\n",
    "                    partial_y_train,\n",
    "                    epochs=4,\n",
    "                    batch_size=100,\n",
    "                    validation_data=(x_val, y_val))\n",
    "plot_hist(history)"
   ]
  },
  {
   "cell_type": "markdown",
   "metadata": {
    "colab_type": "text",
    "id": "ZT9RLs0McpeB"
   },
   "source": [
    "We can see that it is even slower than our previous model (about 3 times slower), but the loss and accuracy are better than previous models.\n",
    "\n",
    "Remember that there is no guarantee that deeper or more complex models perform better than simple models, especially when you don't have enough data."
   ]
  },
  {
   "cell_type": "markdown",
   "metadata": {
    "colab_type": "text",
    "id": "osRVUOrpw0h6"
   },
   "source": [
    "## Pretrained embeddings\n",
    "Finally, we will try using **pretrained embeddings**.\n",
    "\n",
    "The reason? \n",
    "\n",
    "Instead of randomly initialize the word embeddings, we can train them using a huge amout of (unlabeled) data in an unsupervised fashion.\n",
    "\n",
    "\n",
    "---\n",
    "\n",
    "We will use the [GloVe embeddings](http://nlp.stanford.edu/projects/glove/) to initialize our embedding weights. \n",
    "The file format is \n",
    "```\n",
    "word1  0.xx -0.xx ... \n",
    "word2  0.yy 0.yy ...\n",
    "```\n",
    "Here, we read the entire file and see which of those words are in our dictionary. If we find one, we will set its embedding accordingly. Other words that are not found in the pretrained embeddings can be initialized as all zeros or very small numbers."
   ]
  },
  {
   "cell_type": "code",
   "execution_count": 16,
   "metadata": {
    "colab": {},
    "colab_type": "code",
    "id": "axRK5B4M0y1i"
   },
   "outputs": [],
   "source": [
    "## Download pretrained GloVe embeddings from kaggle\n",
    "## !kaggle datasets download -d terenceliu4444/glove6b100dtxt\n",
    "## !unzip glove6b100dtxt.zip\n",
    "\n",
    "## Randomize pretrained embeddings matrix with very small numbers\n",
    "pretrained_embedding_matrix = (np.random.rand(vocab_size, 100) - 0.5) / 1e4\n",
    "## Initialize embeddings matrix to all zeros\n",
    "# pretrained_embedding_matrix = np.zeros((vocab_size, 100))\n",
    "## Load pretrained embeddings\n",
    "with open('glove.6B.100d.txt') as f:\n",
    "    for line in f:\n",
    "        values = line.split()\n",
    "        word = values[0]\n",
    "        if word in word_index:\n",
    "            embs = np.asarray(values[1:], dtype='float32')\n",
    "            if word_index[word] >= vocab_size: continue\n",
    "            pretrained_embedding_matrix[word_index[word]] = embs"
   ]
  },
  {
   "cell_type": "markdown",
   "metadata": {
    "colab_type": "text",
    "id": "wBZLuGia0y1l"
   },
   "source": [
    "`pretrained_embedding_matrix` now contains pre-trained embeddings and can be used to initialize the embedding layer.\n",
    "\n",
    "An option is to set the embeddings to `trainable=False` which stops them from begin updated during training. \n",
    "However, this is not always useful as the pretrained embeddings may come from a **different dataset**. \n",
    "\n",
    "If you have a large amount of unlabeled data and a smaller labeled data, both from the same source, you can consider setting the `trainable=False` flag. This has an additional benefit of **reducing the number of parameters**, which in turn reduces the amount of training data that you need!"
   ]
  },
  {
   "cell_type": "markdown",
   "metadata": {
    "colab_type": "text",
    "id": "Rn6zAX70Oi9q"
   },
   "source": [
    "#### We can test the effect of pretrained embeddings on our very simple model first."
   ]
  },
  {
   "cell_type": "code",
   "execution_count": 21,
   "metadata": {
    "colab": {},
    "colab_type": "code",
    "id": "lrjAvrniOpnV"
   },
   "outputs": [
    {
     "name": "stdout",
     "output_type": "stream",
     "text": [
      "_________________________________________________________________\n",
      "Layer (type)                 Output Shape              Param #   \n",
      "=================================================================\n",
      "embedding_1 (Embedding)      (None, None, 100)         1000000   \n",
      "_________________________________________________________________\n",
      "global_average_pooling1d_1 ( (None, 100)               0         \n",
      "_________________________________________________________________\n",
      "dense_1 (Dense)              (None, 16)                1616      \n",
      "_________________________________________________________________\n",
      "dense_2 (Dense)              (None, 1)                 17        \n",
      "=================================================================\n",
      "Total params: 1,001,633\n",
      "Trainable params: 1,001,633\n",
      "Non-trainable params: 0\n",
      "_________________________________________________________________\n",
      "Train on 9000 samples, validate on 1000 samples\n",
      "Epoch 1/8\n",
      "9000/9000 [==============================] - 2s 201us/step - loss: 0.6800 - acc: 0.6122 - val_loss: 0.6478 - val_acc: 0.6940\n",
      "Epoch 2/8\n",
      "9000/9000 [==============================] - 1s 163us/step - loss: 0.6168 - acc: 0.7238 - val_loss: 0.5785 - val_acc: 0.7330\n",
      "Epoch 3/8\n",
      "9000/9000 [==============================] - 1s 154us/step - loss: 0.5232 - acc: 0.7904 - val_loss: 0.4798 - val_acc: 0.8090\n",
      "Epoch 4/8\n",
      "9000/9000 [==============================] - 1s 150us/step - loss: 0.4205 - acc: 0.8407 - val_loss: 0.4117 - val_acc: 0.8170\n",
      "Epoch 5/8\n",
      "9000/9000 [==============================] - 1s 149us/step - loss: 0.3437 - acc: 0.8719 - val_loss: 0.3772 - val_acc: 0.8290\n",
      "Epoch 6/8\n",
      "9000/9000 [==============================] - 1s 151us/step - loss: 0.2910 - acc: 0.8922 - val_loss: 0.3644 - val_acc: 0.8350\n",
      "Epoch 7/8\n",
      "9000/9000 [==============================] - 2s 189us/step - loss: 0.2502 - acc: 0.9078 - val_loss: 0.3538 - val_acc: 0.8450\n",
      "Epoch 8/8\n",
      "9000/9000 [==============================] - 1s 159us/step - loss: 0.2174 - acc: 0.9233 - val_loss: 0.3545 - val_acc: 0.8370\n"
     ]
    },
    {
     "data": {
      "image/png": "[encoded data removed]",
      "text/plain": [
       "<Figure size 432x288 with 1 Axes>"
      ]
     },
     "metadata": {},
     "output_type": "display_data"
    },
    {
     "data": {
      "image/png": "[encoded data removed]",
      "text/plain": [
       "<Figure size 432x288 with 1 Axes>"
      ]
     },
     "metadata": {},
     "output_type": "display_data"
    }
   ],
   "source": [
    "model = None\n",
    "K.clear_session()\n",
    "model = keras.Sequential()\n",
    "\n",
    "# Embedding layer with pretrained embeddings\n",
    "model.add(Embedding(vocab_size, 100, weights=[pretrained_embedding_matrix]))\n",
    "\n",
    "model.add(GlobalAveragePooling1D())\n",
    "model.add(Dense(16, activation=tf.nn.relu))\n",
    "model.add(Dense(1, activation=tf.nn.sigmoid))\n",
    "model.summary()\n",
    "model.compile(optimizer=tf.train.AdamOptimizer(),\n",
    "              loss='binary_crossentropy',\n",
    "              metrics=['accuracy'])\n",
    "history = model.fit(partial_x_train,\n",
    "                    partial_y_train,\n",
    "                    epochs=8,\n",
    "                    batch_size=100,\n",
    "                    validation_data=(x_val, y_val))\n",
    "plot_hist(history)"
   ]
  },
  {
   "cell_type": "code",
   "execution_count": 22,
   "metadata": {
    "colab": {},
    "colab_type": "code",
    "id": "bGsbe0AHQHbZ"
   },
   "outputs": [
    {
     "name": "stdout",
     "output_type": "stream",
     "text": [
      "25000/25000 [==============================] - 1s 22us/step\n",
      "[0.3636114725399017, 0.84268]\n"
     ]
    }
   ],
   "source": [
    "results = model.evaluate(test_data, test_labels)\n",
    "print(results)"
   ]
  },
  {
   "cell_type": "markdown",
   "metadata": {
    "colab_type": "text",
    "id": "BCsQRCZTQoLd"
   },
   "source": [
    "We can see that the model improved slightly from 83% to 84%. "
   ]
  },
  {
   "cell_type": "markdown",
   "metadata": {
    "colab_type": "text",
    "id": "DZmuk3xXO7IE"
   },
   "source": [
    "### Mixture of the above\n",
    "\n",
    "#### Next we will try it on the LSTM."
   ]
  },
  {
   "cell_type": "code",
   "execution_count": 20,
   "metadata": {
    "colab": {},
    "colab_type": "code",
    "id": "9fIy13Nl0y1m"
   },
   "outputs": [
    {
     "name": "stdout",
     "output_type": "stream",
     "text": [
      "_________________________________________________________________\n",
      "Layer (type)                 Output Shape              Param #   \n",
      "=================================================================\n",
      "embedding_1 (Embedding)      (None, None, 100)         1000000   \n",
      "_________________________________________________________________\n",
      "lstm_1 (LSTM)                (None, 32)                17024     \n",
      "_________________________________________________________________\n",
      "dense_1 (Dense)              (None, 1)                 33        \n",
      "=================================================================\n",
      "Total params: 1,017,057\n",
      "Trainable params: 1,017,057\n",
      "Non-trainable params: 0\n",
      "_________________________________________________________________\n",
      "Train on 9000 samples, validate on 1000 samples\n",
      "Epoch 1/8\n",
      "9000/9000 [==============================] - 15s 2ms/step - loss: 0.6883 - acc: 0.5411 - val_loss: 0.6589 - val_acc: 0.6270\n",
      "Epoch 2/8\n",
      "9000/9000 [==============================] - 17s 2ms/step - loss: 0.6556 - acc: 0.6121 - val_loss: 0.6088 - val_acc: 0.6760\n",
      "Epoch 3/8\n",
      "9000/9000 [==============================] - 19s 2ms/step - loss: 0.6080 - acc: 0.6683 - val_loss: 0.5234 - val_acc: 0.7440\n",
      "Epoch 4/8\n",
      "9000/9000 [==============================] - 16s 2ms/step - loss: 0.5367 - acc: 0.7288 - val_loss: 0.4354 - val_acc: 0.8100\n",
      "Epoch 5/8\n",
      "9000/9000 [==============================] - 19s 2ms/step - loss: 0.4627 - acc: 0.7846 - val_loss: 0.3914 - val_acc: 0.8360\n",
      "Epoch 6/8\n",
      "9000/9000 [==============================] - 17s 2ms/step - loss: 0.3980 - acc: 0.8200 - val_loss: 0.3759 - val_acc: 0.8330\n",
      "Epoch 7/8\n",
      "9000/9000 [==============================] - 17s 2ms/step - loss: 0.3484 - acc: 0.8502 - val_loss: 0.3761 - val_acc: 0.8440\n",
      "Epoch 8/8\n",
      "9000/9000 [==============================] - 16s 2ms/step - loss: 0.3154 - acc: 0.8674 - val_loss: 0.3636 - val_acc: 0.8390\n"
     ]
    },
    {
     "data": {
      "image/png": "[encoded data removed]",
      "text/plain": [
       "<Figure size 432x288 with 1 Axes>"
      ]
     },
     "metadata": {},
     "output_type": "display_data"
    },
    {
     "data": {
      "image/png": "[encoded data removed]",
      "text/plain": [
       "<Figure size 432x288 with 1 Axes>"
      ]
     },
     "metadata": {},
     "output_type": "display_data"
    }
   ],
   "source": [
    "model = None\n",
    "K.clear_session()\n",
    "model = keras.Sequential()\n",
    "model.add(Embedding(vocab_size, 100, weights=[pretrained_embedding_matrix]))\n",
    "model.add(LSTM(32, dropout=0.5, recurrent_dropout=0.5))\n",
    "#model.add(CuDNNLSTM(32))\n",
    "model.add(Dense(1, activation='sigmoid'))\n",
    "model.summary()\n",
    "model.compile(optimizer=tf.train.AdamOptimizer(),\n",
    "              loss='binary_crossentropy',\n",
    "              metrics=['accuracy'])\n",
    "history = model.fit(partial_x_train,\n",
    "                    partial_y_train,\n",
    "                    epochs=8,\n",
    "                    batch_size=100,\n",
    "                    validation_data=(x_val, y_val))\n",
    "plot_hist(history)"
   ]
  },
  {
   "cell_type": "markdown",
   "metadata": {
    "colab_type": "text",
    "id": "CYTOfSqk0y1o"
   },
   "source": [
    "Finally, we test its performance on the test set."
   ]
  },
  {
   "cell_type": "code",
   "execution_count": 21,
   "metadata": {
    "colab": {},
    "colab_type": "code",
    "id": "P4Pd3IfW0y1p"
   },
   "outputs": [
    {
     "name": "stdout",
     "output_type": "stream",
     "text": [
      "25000/25000 [==============================] - 18s 714us/step\n",
      "[0.37824612038612365, 0.83896]\n"
     ]
    }
   ],
   "source": [
    "results = model.evaluate(test_data, test_labels)\n",
    "print(results)"
   ]
  },
  {
   "cell_type": "markdown",
   "metadata": {},
   "source": [
    "We can see that the model improved to 84%. "
   ]
  },
  {
   "cell_type": "markdown",
   "metadata": {},
   "source": [
    "## 4. Model comparison"
   ]
  },
  {
   "cell_type": "markdown",
   "metadata": {},
   "source": [
    "| Model | train_accuracy | test_accuracy | \n",
    "| ---  | --- | --- |\n",
    "| FNN | 0.8230 | 0.8332 | \n",
    "| dropout | 0.8250 | 0.8268 | \n",
    "| dropout & LSTM | 0.7640 | 0.7776 | \n",
    "| Deeper LSTM | 0.8150 | 0.8150 | \n",
    "| Bi-directional RNN | 0.8230 | 0.8230 | \n",
    "| Deeper LSTM & bi-directional RNN | 0.8160 | 0.8160 | \n",
    "| Pretrained embeddings & dropout & LSTM | **0.8390** | **0.8390** | "
   ]
  },
  {
   "cell_type": "markdown",
   "metadata": {},
   "source": [
    "#### Combining pretrained embeddings, dropout  and LSTM, we improve the model performance slightly from 83% to 84, and  pretrained embeddings makes greater contribution to this improvement than the others."
   ]
  },
  {
   "cell_type": "code",
   "execution_count": null,
   "metadata": {},
   "outputs": [],
   "source": []
  }
 ],
 "metadata": {
  "accelerator": "GPU",
  "colab": {
   "collapsed_sections": [],
   "name": "Week10_NLP_codelab.ipynb",
   "private_outputs": true,
   "provenance": [],
   "toc_visible": true,
   "version": "0.3.2"
  },
  "kernelspec": {
   "display_name": "Python3.6",
   "language": "python",
   "name": "tensorflow"
  },
  "language_info": {
   "codemirror_mode": {
    "name": "ipython",
    "version": 3
   },
   "file_extension": ".py",
   "mimetype": "text/x-python",
   "name": "python",
   "nbconvert_exporter": "python",
   "pygments_lexer": "ipython3",
   "version": "3.6.6"
  }
 },
 "nbformat": 4,
 "nbformat_minor": 1
}
